{
  "nbformat": 4,
  "nbformat_minor": 0,
  "metadata": {
    "colab": {
      "provenance": [],
      "include_colab_link": true
    },
    "kernelspec": {
      "name": "python3",
      "display_name": "Python 3"
    },
    "language_info": {
      "name": "python"
    }
  },
  "cells": [
    {
      "cell_type": "markdown",
      "metadata": {
        "id": "view-in-github",
        "colab_type": "text"
      },
      "source": [
        "<a href=\"https://colab.research.google.com/github/zaelcovsky/workshop_deep_python_autumn_2023_not_my_group/blob/main/vk_deep_python_extra.ipynb\" target=\"_parent\"><img src=\"https://colab.research.google.com/assets/colab-badge.svg\" alt=\"Open In Colab\"/></a>"
      ]
    },
    {
      "cell_type": "markdown",
      "source": [
        "# «Морзянка»"
      ],
      "metadata": {
        "id": "u0ECikwJ9OzZ"
      }
    },
    {
      "cell_type": "markdown",
      "source": [
        "Требуется написать класс **morse**(\"строка\"), экземпляр которого переводит арифметические выражения в морзянку! В выражении «+» — это точка, «-» — тире, а «~» — промежуток между буквами (бывает между буквами и только один, проверять не надо).\n",
        "\n",
        "\n",
        "\n",
        "*   Параметр — строка, состоящая только из символов, либо из слов\n",
        "*   Строка состоит из слов, если в ней есть хотя бы один пробел (в этом случае между словами стоит ровно один пробел, проверять не надо)\n",
        "*   Если в строке три элемента, они задают точку, точку на конце передаваемой буквы (традиционно обозначается другим слогом) и тире\n",
        "*   Два элемента задают точку (она же точка на конце буквы) и тире\n",
        "*   Если элемента четыре, четвёртый — это то, что выводится в конце сообщения\n",
        "*   По умолчанию:\n",
        "\n",
        "    *   Если параметров нет, это слова \"di\", \"dit\" и \"dah\".\n",
        "    *   Если параметры — слова: в конце сообщения выводится \".\", разделители при выводе: пробел между сигналами и \", \" между буквами.\n",
        "    *   Если параметры — символы: непуст только разделитель между буквами (это пробел).\n",
        "\n",
        "\n",
        "> ```python\n",
        "> print(-+morse())\n",
        "> print(-++~+-+morse())\n",
        "> print(--+~-~-++~+++-morse())\n",
        "> print(--+~-~-++~+++-morse(\".-\"))\n",
        "> print(--+~-~-++~+++-morse(\"..-\"))\n",
        "> print(--+~-~-++~+++-morse(\"..-|\"))\n",
        "> print(--+~-~-++~+++-morse(\"dot DOT dash\"))\n",
        "> print(--+~-~-++~+++-morse(\"ai aui oi \"))\n",
        "> print(--+~-~-++~+++-morse(\"dot dot dash ///\"))\n",
        ">\n",
        "> >>> dah dit.\n",
        "> >>> dah di dit, di dah dit.\n",
        "> >>> dah dah dit, dah, dah di dit, di di di dah.\n",
        "> >>> --. - -.. ...-\n",
        "> >>> --. - -.. ...-\n",
        "> >>> --. - -.. ...-|\n",
        "> >>> dash dash DOT, dash, dash dot DOT, dot dot dot dash.\n",
        "> >>> oi oi aui, oi, oi ai aui, ai ai ai oi\n",
        "> >>> dash dash dot, dash, dash dot dot, dot dot dot dash///\n",
        "> ```\n"
      ],
      "metadata": {
        "id": "WM-c3Jxi9aBn"
      }
    },
    {
      "cell_type": "markdown",
      "source": [
        "# «Странный класс»"
      ],
      "metadata": {
        "id": "rLqLc4H3_Hwf"
      }
    },
    {
      "cell_type": "markdown",
      "source": [
        "Требуется написать класс **Nuts**, экземпляры которого\n",
        "\n",
        "* можно конструировать из любого набора объектов (в т. ч. из ничего)\n",
        "* можно индексировать по чему угодно (возвращается объект, который использовался в индексе)\n",
        "* в том числе позволяют присваивать и удалять по индексу (ничего не происходит)\n",
        "содержат любое поле (возвращается имя этого поля)\n",
        "\n",
        "* в том числе позволяют присваивать и удалять поля (ничего не происходит)\n",
        "итерируемы (возвращаются строки \"N\", \"u\", \"t\" и \"s\")\n",
        "\n",
        "* в виде строки представляются как \"Nuts\"\n",
        "\n",
        "\n",
        "> ```python\n",
        "> M, N = Nuts(), Nuts(1,2,3,4)\n",
        "> print(M, N)\n",
        "> M[100] = N.qwerty = 42\n",
        "> print(M[100], N.qwerty)\n",
        "> print(*list(Nuts(\"QWERQWERQWER\")))\n",
        "> del M[\"QQ\"], N[6:10], M[...], N._, N.qwerty\n",
        "> print(M.asdfg, N[-2])\n",
        ">\n",
        "> >>> Nuts Nuts\n",
        "> >>> 100 qwerty\n",
        "> >>> N u t s\n",
        "> >>> asdfg -2\n",
        "> ```"
      ],
      "metadata": {
        "id": "LX5QB472_H1u"
      }
    },
    {
      "cell_type": "code",
      "source": [],
      "metadata": {
        "id": "oL2cWyyD9XDT"
      },
      "execution_count": null,
      "outputs": []
    }
  ]
}