{
  "cells": [
    {
      "cell_type": "markdown",
      "metadata": {
        "id": "view-in-github",
        "colab_type": "text"
      },
      "source": [
        "<a href=\"https://colab.research.google.com/github/zaelcovsky/workshop_deep_python_autumn_2023_not_my_group/blob/main/deep_python_vk_workshop_asyncpg.ipynb\" target=\"_parent\"><img src=\"https://colab.research.google.com/assets/colab-badge.svg\" alt=\"Open In Colab\"/></a>"
      ]
    },
    {
      "cell_type": "markdown",
      "id": "ccbfcbab-f48e-41ab-b7df-a2ffdf099790",
      "metadata": {
        "id": "ccbfcbab-f48e-41ab-b7df-a2ffdf099790"
      },
      "source": [
        "# Асинхронное выполнение запросов к базе данных Postgres"
      ]
    },
    {
      "cell_type": "markdown",
      "id": "3c29d25b-2069-4370-9af5-df6effbc9f77",
      "metadata": {
        "id": "3c29d25b-2069-4370-9af5-df6effbc9f77"
      },
      "source": [
        "В данном задании предлагается рассмотреть код, взаимодействующий с БД, и ускорить обработку большого числа запросов с помощью асинхронного программирования.\n",
        "\n",
        "Для работы с БД предлагается использовать [докер](https://www.docker.com/) и подготовленный для воркшопа образ с БД. Поднять контейнер с БД можно так:\n",
        "\n",
        "> ```bash\n",
        "> docker run --rm -d -p 5432:5432 --name postgres \\\n",
        ">     -e POSTGRES_PASSWORD=admin \\\n",
        ">     -e POSTGRES_USER=admin \\\n",
        ">     -e POSTGRES_DB=products \\\n",
        ">     -e PGDATA=/var/lib/postgresql/pgdata \\\n",
        ">     dmitrylala/deep-python-vk:1\n",
        "> ```\n",
        "\n",
        "**Note:** Вот так можно выполнить healthcheck и проверить что postgres поднялся\n",
        "> ```bash\n",
        "> dmitry@dmitry:~$ docker exec -it postgres pg_isready -U admin\n",
        "> /var/run/postgresql:5432 - accepting connections\n",
        ">  ```"
      ]
    },
    {
      "cell_type": "code",
      "source": [
        "# !pip install asyncpg"
      ],
      "metadata": {
        "id": "Z9qsmuaBe2gL"
      },
      "id": "Z9qsmuaBe2gL",
      "execution_count": null,
      "outputs": []
    },
    {
      "cell_type": "code",
      "execution_count": null,
      "id": "6b3fe988-8753-49f3-a69e-fab0c82c4b39",
      "metadata": {
        "id": "6b3fe988-8753-49f3-a69e-fab0c82c4b39",
        "outputId": "8fda7a6f-3870-4acb-97e0-1d508b3099f8",
        "colab": {
          "base_uri": "https://localhost:8080/"
        }
      },
      "outputs": [
        {
          "output_type": "error",
          "ename": "ModuleNotFoundError",
          "evalue": "ignored",
          "traceback": [
            "\u001b[0;31m---------------------------------------------------------------------------\u001b[0m",
            "\u001b[0;31mModuleNotFoundError\u001b[0m                       Traceback (most recent call last)",
            "\u001b[0;32m<ipython-input-1-55ffe84dded3>\u001b[0m in \u001b[0;36m<cell line: 5>\u001b[0;34m()\u001b[0m\n\u001b[1;32m      3\u001b[0m \u001b[0;32mimport\u001b[0m \u001b[0masyncio\u001b[0m\u001b[0;34m\u001b[0m\u001b[0;34m\u001b[0m\u001b[0m\n\u001b[1;32m      4\u001b[0m \u001b[0;34m\u001b[0m\u001b[0m\n\u001b[0;32m----> 5\u001b[0;31m \u001b[0;32mimport\u001b[0m \u001b[0masyncpg\u001b[0m\u001b[0;34m\u001b[0m\u001b[0;34m\u001b[0m\u001b[0m\n\u001b[0m",
            "\u001b[0;31mModuleNotFoundError\u001b[0m: No module named 'asyncpg'",
            "",
            "\u001b[0;31m---------------------------------------------------------------------------\u001b[0;32m\nNOTE: If your import is failing due to a missing package, you can\nmanually install dependencies using either !pip or !apt.\n\nTo view examples of installing some common dependencies, click the\n\"Open Examples\" button below.\n\u001b[0;31m---------------------------------------------------------------------------\u001b[0m\n"
          ],
          "errorDetails": {
            "actions": [
              {
                "action": "open_url",
                "actionText": "Open Examples",
                "url": "/notebooks/snippets/importing_libraries.ipynb"
              }
            ]
          }
        }
      ],
      "source": [
        "from typing import List, Tuple\n",
        "import time\n",
        "import asyncio\n",
        "\n",
        "import asyncpg"
      ]
    },
    {
      "cell_type": "code",
      "execution_count": null,
      "id": "8778df8c-9c2b-47be-a1c9-37ad6069ecb9",
      "metadata": {
        "id": "8778df8c-9c2b-47be-a1c9-37ad6069ecb9"
      },
      "outputs": [],
      "source": [
        "POSTGRES_PARAMS = {\n",
        "    \"host\": \"127.0.0.1\",\n",
        "    \"port\": 5432,\n",
        "    \"user\": \"admin\",\n",
        "    \"database\": \"products\",\n",
        "    \"password\": \"admin\",\n",
        "}"
      ]
    },
    {
      "cell_type": "markdown",
      "id": "22659eaf-60e6-4a56-86ed-0c7f985cbc2e",
      "metadata": {
        "id": "22659eaf-60e6-4a56-86ed-0c7f985cbc2e"
      },
      "source": [
        "### Посмотрим на данные"
      ]
    },
    {
      "cell_type": "code",
      "execution_count": null,
      "id": "f6b21b7e-d4fd-4e77-b063-375ae855fe3e",
      "metadata": {
        "id": "f6b21b7e-d4fd-4e77-b063-375ae855fe3e",
        "outputId": "c9af6e30-55dd-4ff1-c180-ac4caf9c6b8b"
      },
      "outputs": [
        {
          "name": "stdout",
          "output_type": "stream",
          "text": [
            "id: 1, name: Levis\n",
            "id: 2, name: Seven\n",
            "id: 3, name: bar\n",
            "id: 4, name: sure\n",
            "id: 5, name: old\n",
            "id: 6, name: discover\n",
            "id: 7, name: everything\n",
            "id: 8, name: dog\n",
            "id: 9, name: surface\n",
            "id: 10, name: machine\n"
          ]
        }
      ],
      "source": [
        "conn = await asyncpg.connect(**POSTGRES_PARAMS)\n",
        "\n",
        "brand_query = \"SELECT brand_id, brand_name FROM brand LIMIT 10\"\n",
        "results = await conn.fetch(brand_query)\n",
        "\n",
        "for brand in results:\n",
        "    print(f'id: {brand[\"brand_id\"]}, name: {brand[\"brand_name\"]}')\n",
        "\n",
        "await conn.close()"
      ]
    },
    {
      "cell_type": "code",
      "execution_count": null,
      "id": "65f72479-66ff-4235-87f3-3b0c5cd05da4",
      "metadata": {
        "id": "65f72479-66ff-4235-87f3-3b0c5cd05da4",
        "outputId": "273f8889-2845-4081-af2a-3a7b9e718f22"
      },
      "outputs": [
        {
          "name": "stdout",
          "output_type": "stream",
          "text": [
            "id: 1, name: catch reason authority shake discover analysis customer popular worker live\n",
            "id: 2, name: save arm within big per member early my community own\n",
            "id: 3, name: cause least image coach company enter anyone my size husband\n",
            "id: 4, name: money baby war process similar Mr pressure positive science expect\n",
            "id: 5, name: country pattern foot car set discussion all threat relate cost\n",
            "id: 6, name: dark sister rise another policy whatever woman issue space family\n",
            "id: 7, name: discussion value shoulder senior deep expert live beat could animal\n",
            "id: 8, name: white participant physical factor summer a camera reflect cell high\n",
            "id: 9, name: occur body our pick they laugh professor agreement message dog\n",
            "id: 10, name: top collection with protect woman look page another strategy election\n",
            "\n",
            "\n",
            "id: 1, name: 480\n",
            "id: 2, name: 878\n",
            "id: 3, name: 156\n",
            "id: 4, name: 173\n",
            "id: 5, name: 656\n",
            "id: 6, name: 183\n",
            "id: 7, name: 834\n",
            "id: 8, name: 909\n",
            "id: 9, name: 164\n",
            "id: 10, name: 50\n"
          ]
        }
      ],
      "source": [
        "conn = await asyncpg.connect(**POSTGRES_PARAMS)\n",
        "\n",
        "product_query = \"SELECT product_id, product_name FROM product LIMIT 10\"\n",
        "results = await conn.fetch(product_query)\n",
        "\n",
        "for product in results:\n",
        "    print(f'id: {product[\"product_id\"]}, name: {product[\"product_name\"]}')\n",
        "\n",
        "print(\"\\n\")\n",
        "\n",
        "sku_query = \"SELECT sku_id, product_id FROM sku LIMIT 10\"\n",
        "results = await conn.fetch(sku_query)\n",
        "\n",
        "for sku in results:\n",
        "    print(f'id: {sku[\"sku_id\"]}, name: {sku[\"product_id\"]}')\n",
        "\n",
        "await conn.close()"
      ]
    },
    {
      "cell_type": "markdown",
      "id": "d69afff7-dde5-4c42-8a98-bac776c92941",
      "metadata": {
        "id": "d69afff7-dde5-4c42-8a98-bac776c92941"
      },
      "source": [
        "### Симуляция \"тяжелого\" популярного запроса"
      ]
    },
    {
      "cell_type": "code",
      "execution_count": null,
      "id": "227aaa74-d7c5-4599-82c3-f5464f20a02f",
      "metadata": {
        "id": "227aaa74-d7c5-4599-82c3-f5464f20a02f"
      },
      "outputs": [],
      "source": [
        "# хотим получить все имеющиеся SKU для конкретного товара\n",
        "product_query = \\\n",
        "\"\"\"\n",
        "SELECT\n",
        "p.product_id,\n",
        "p.product_name,\n",
        "p.brand_id,\n",
        "s.sku_id,\n",
        "pc.product_color_name,\n",
        "ps.product_size_name\n",
        "FROM product as p\n",
        "JOIN sku as s on s.product_id = p.product_id\n",
        "JOIN product_color as pc on pc.product_color_id = s.product_color_id\n",
        "JOIN product_size as ps on ps.product_size_id = s.product_size_id\n",
        "WHERE p.product_id = {product_id}\"\"\"\n",
        "\n",
        "\n",
        "POSTGRES_POOL_PARAMS = {\n",
        "    \"min_size\": 6,\n",
        "    \"max_size\": 6,\n",
        "    **POSTGRES_PARAMS,\n",
        "}"
      ]
    },
    {
      "cell_type": "code",
      "execution_count": null,
      "id": "b2e2eb7f-bb07-4ffb-a128-e9b9fe5fe6a5",
      "metadata": {
        "id": "b2e2eb7f-bb07-4ffb-a128-e9b9fe5fe6a5",
        "outputId": "0f1de206-53ea-43e6-dc41-6e88414eafa4"
      },
      "outputs": [
        {
          "name": "stdout",
          "output_type": "stream",
          "text": [
            "<Record product_id=20 product_name='end factor program former grow Democrat decision lawyer better already' brand_id=40 sku_id=14 product_color_name='Blue' product_size_name='Medium'>\n"
          ]
        }
      ],
      "source": [
        "async def query_product(pool, product_id):\n",
        "    async with pool.acquire() as connection:\n",
        "        return await connection.fetchrow(product_query.format(product_id=product_id))\n",
        "\n",
        "\n",
        "async with asyncpg.create_pool(**POSTGRES_POOL_PARAMS) as pool:\n",
        "    res = await query_product(pool, product_id=20)\n",
        "    print(res)"
      ]
    },
    {
      "cell_type": "code",
      "execution_count": null,
      "id": "5c76e99a-a000-4476-bec1-4fccb2b70896",
      "metadata": {
        "id": "5c76e99a-a000-4476-bec1-4fccb2b70896"
      },
      "outputs": [],
      "source": [
        "product_ids = list(range(1000)) * 100"
      ]
    },
    {
      "cell_type": "code",
      "execution_count": null,
      "id": "38e4af1e-2308-4736-b73b-bdfce12c499d",
      "metadata": {
        "id": "38e4af1e-2308-4736-b73b-bdfce12c499d",
        "outputId": "fffc76e7-e810-480a-c08c-b3a1f60e346b"
      },
      "outputs": [
        {
          "name": "stdout",
          "output_type": "stream",
          "text": [
            "53.657701909000025\n"
          ]
        }
      ],
      "source": [
        "start = time.perf_counter()\n",
        "\n",
        "async with asyncpg.create_pool(**POSTGRES_POOL_PARAMS) as pool:\n",
        "    for product_id in product_ids:\n",
        "        _ = await query_product(pool, product_id=product_id)\n",
        "\n",
        "print(time.perf_counter() - start)"
      ]
    },
    {
      "cell_type": "markdown",
      "id": "c95e1c7c-d9c4-4ec0-b060-f1e47886d81f",
      "metadata": {
        "id": "c95e1c7c-d9c4-4ec0-b060-f1e47886d81f"
      },
      "source": [
        "### Задание: максимально ускорить выполнение 100к запросов, используя асинхронность"
      ]
    },
    {
      "cell_type": "code",
      "execution_count": null,
      "id": "0eefbe4e-0ac3-4d01-9858-961481b8a98d",
      "metadata": {
        "id": "0eefbe4e-0ac3-4d01-9858-961481b8a98d"
      },
      "outputs": [],
      "source": []
    },
    {
      "cell_type": "code",
      "execution_count": null,
      "id": "d8fecd20-a341-4d4a-9150-6d99a2b7b7f8",
      "metadata": {
        "id": "d8fecd20-a341-4d4a-9150-6d99a2b7b7f8"
      },
      "outputs": [],
      "source": []
    },
    {
      "cell_type": "code",
      "execution_count": null,
      "id": "5fed8d74-7e7a-4932-98af-907f96f52ef9",
      "metadata": {
        "id": "5fed8d74-7e7a-4932-98af-907f96f52ef9"
      },
      "outputs": [],
      "source": []
    },
    {
      "cell_type": "code",
      "execution_count": null,
      "id": "018ecd16-604f-4a2c-b501-8b94e24b1370",
      "metadata": {
        "id": "018ecd16-604f-4a2c-b501-8b94e24b1370"
      },
      "outputs": [],
      "source": []
    }
  ],
  "metadata": {
    "kernelspec": {
      "display_name": "Python 3 (ipykernel)",
      "language": "python",
      "name": "python3"
    },
    "language_info": {
      "codemirror_mode": {
        "name": "ipython",
        "version": 3
      },
      "file_extension": ".py",
      "mimetype": "text/x-python",
      "name": "python",
      "nbconvert_exporter": "python",
      "pygments_lexer": "ipython3",
      "version": "3.9.7"
    },
    "colab": {
      "provenance": [],
      "include_colab_link": true
    }
  },
  "nbformat": 4,
  "nbformat_minor": 5
}