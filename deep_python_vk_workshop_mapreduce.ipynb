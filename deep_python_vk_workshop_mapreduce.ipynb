{
  "cells": [
    {
      "cell_type": "markdown",
      "metadata": {
        "id": "view-in-github",
        "colab_type": "text"
      },
      "source": [
        "<a href=\"https://colab.research.google.com/github/zaelcovsky/workshop_deep_python_autumn_2023_not_my_group/blob/main/deep_python_vk_workshop_mapreduce.ipynb\" target=\"_parent\"><img src=\"https://colab.research.google.com/assets/colab-badge.svg\" alt=\"Open In Colab\"/></a>"
      ]
    },
    {
      "cell_type": "markdown",
      "metadata": {
        "id": "2kkZpAC5ekFe"
      },
      "source": [
        "# MapReduce: Word Count"
      ]
    },
    {
      "cell_type": "markdown",
      "metadata": {
        "id": "TUfRuU8Jen62"
      },
      "source": [
        "В данном задании предлагается реализовать простейший MapReduce над корпусом текстов — нужно выполнить предобработку текстов и подсчет количества вхождений слов (и реализовать многопроцессно!)"
      ]
    },
    {
      "cell_type": "code",
      "execution_count": null,
      "metadata": {
        "id": "zCW1O_48tBhy"
      },
      "outputs": [],
      "source": [
        "# !pip install scikit-learn nltk"
      ]
    },
    {
      "cell_type": "code",
      "execution_count": null,
      "metadata": {
        "id": "X4EYT5JgeoPG",
        "outputId": "a86f87bd-536c-4f40-86b8-512bce33bc65"
      },
      "outputs": [
        {
          "name": "stderr",
          "output_type": "stream",
          "text": [
            "[nltk_data] Downloading package stopwords to /home/dmitry/nltk_data...\n",
            "[nltk_data]   Package stopwords is already up-to-date!\n"
          ]
        }
      ],
      "source": [
        "import re\n",
        "\n",
        "from typing import List\n",
        "\n",
        "import nltk\n",
        "from nltk.tokenize import RegexpTokenizer\n",
        "from nltk.corpus import stopwords as nltk_stop\n",
        "nltk.download(\"stopwords\")\n",
        "\n",
        "from sklearn.datasets import fetch_20newsgroups"
      ]
    },
    {
      "cell_type": "markdown",
      "metadata": {
        "id": "jpmpu0ZvMRgq"
      },
      "source": [
        "Из текстов будем убирать стоп-слова — очень часто встречаемые в языке слова (артикли, предлоги, местоимения)"
      ]
    },
    {
      "cell_type": "code",
      "execution_count": null,
      "metadata": {
        "colab": {
          "base_uri": "https://localhost:8080/"
        },
        "id": "sUdahiofJqEa",
        "outputId": "f5378328-9a64-417b-85fb-d6a0116be387"
      },
      "outputs": [
        {
          "data": {
            "text/plain": [
              "['by', 'up', 'both', 'they', 'where']"
            ]
          },
          "execution_count": 3,
          "metadata": {},
          "output_type": "execute_result"
        }
      ],
      "source": [
        "stopwords = set(nltk_stop.words(\"english\"))\n",
        "list(stopwords)[:5]"
      ]
    },
    {
      "cell_type": "markdown",
      "metadata": {
        "id": "NmPaty8IjcTp"
      },
      "source": [
        "### Скачивание текстов"
      ]
    },
    {
      "cell_type": "code",
      "execution_count": null,
      "metadata": {
        "colab": {
          "base_uri": "https://localhost:8080/"
        },
        "id": "Y5hzLCupfCqS",
        "outputId": "0dcc44ce-8ebd-4d32-dff7-0c19bcf3e48a"
      },
      "outputs": [
        {
          "data": {
            "text/plain": [
              "113140"
            ]
          },
          "execution_count": 4,
          "metadata": {},
          "output_type": "execute_result"
        }
      ],
      "source": [
        "news = fetch_20newsgroups().data * 10\n",
        "len(news)"
      ]
    },
    {
      "cell_type": "markdown",
      "metadata": {
        "id": "FUy61w2kgcUZ"
      },
      "source": [
        "### Подсчет в одном процессе"
      ]
    },
    {
      "cell_type": "code",
      "execution_count": null,
      "metadata": {
        "id": "ePWxtA-ugMLe"
      },
      "outputs": [],
      "source": [
        "from collections import Counter"
      ]
    },
    {
      "cell_type": "code",
      "execution_count": null,
      "metadata": {
        "id": "vRXnZFyGf5WF"
      },
      "outputs": [],
      "source": [
        "def tokenize(text: str) -> List[str]:\n",
        "    tokenizer = RegexpTokenizer(r\"\\w+\")\n",
        "    return tokenizer.tokenize(text)\n",
        "\n",
        "\n",
        "def clear_tokens(tokens: List[str]) -> List[str]:\n",
        "    return [re.sub(r\"[^a-z]\", \"\", token) for token in tokens]\n",
        "\n",
        "\n",
        "def is_token_informative(token: str) -> bool:\n",
        "    return token and token not in stopwords and len(token) > 2\n",
        "\n",
        "\n",
        "def count_words(texts: List[str]):\n",
        "    tokenizer = RegexpTokenizer(r\"\\w+\")\n",
        "    cnt = Counter()\n",
        "    for text in texts:\n",
        "        tokens = tokenize(text.lower())\n",
        "        tokens_clear = clear_tokens(tokens)\n",
        "        informative_tokens = filter(is_token_informative, tokens_clear)\n",
        "        cnt.update(informative_tokens)\n",
        "    return cnt"
      ]
    },
    {
      "cell_type": "code",
      "execution_count": null,
      "metadata": {
        "colab": {
          "base_uri": "https://localhost:8080/"
        },
        "id": "xn5PnceUgMNg",
        "outputId": "d379cbce-c813-42a8-a630-8c00f4286701"
      },
      "outputs": [
        {
          "name": "stdout",
          "output_type": "stream",
          "text": [
            "CPU times: user 31.8 s, sys: 13.5 ms, total: 31.8 s\n",
            "Wall time: 31.8 s\n"
          ]
        },
        {
          "data": {
            "text/plain": [
              "[('edu', 213210),\n",
              " ('com', 122880),\n",
              " ('subject', 122650),\n",
              " ('lines', 118370),\n",
              " ('organization', 112330),\n",
              " ('one', 90150),\n",
              " ('would', 89100),\n",
              " ('writes', 78440),\n",
              " ('article', 74380),\n",
              " ('people', 59760)]"
            ]
          },
          "execution_count": 7,
          "metadata": {},
          "output_type": "execute_result"
        }
      ],
      "source": [
        "%%time\n",
        "cnt = count_words(news)\n",
        "cnt.most_common(10)"
      ]
    },
    {
      "cell_type": "markdown",
      "metadata": {
        "id": "WfDy-X6yLuHq"
      },
      "source": [
        "### Подсчет с помощью MapReduce"
      ]
    },
    {
      "cell_type": "markdown",
      "metadata": {
        "id": "v1pWEVPcZJ5Z"
      },
      "source": [
        "Задание: реализация MapReduce с помощью многопроцессности\n",
        "\n",
        "**Note:** Пригодится functools.reduce"
      ]
    },
    {
      "cell_type": "code",
      "execution_count": null,
      "metadata": {
        "id": "sPrslu6Na5FF"
      },
      "outputs": [],
      "source": []
    },
    {
      "cell_type": "code",
      "source": [],
      "metadata": {
        "id": "MwVtNrUal-cZ"
      },
      "execution_count": null,
      "outputs": []
    }
  ],
  "metadata": {
    "colab": {
      "provenance": [],
      "include_colab_link": true
    },
    "kernelspec": {
      "display_name": "Python 3 (ipykernel)",
      "language": "python",
      "name": "python3"
    },
    "language_info": {
      "codemirror_mode": {
        "name": "ipython",
        "version": 3
      },
      "file_extension": ".py",
      "mimetype": "text/x-python",
      "name": "python",
      "nbconvert_exporter": "python",
      "pygments_lexer": "ipython3",
      "version": "3.9.7"
    }
  },
  "nbformat": 4,
  "nbformat_minor": 0
}