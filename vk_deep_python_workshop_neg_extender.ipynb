{
  "nbformat": 4,
  "nbformat_minor": 0,
  "metadata": {
    "colab": {
      "provenance": [],
      "include_colab_link": true
    },
    "kernelspec": {
      "name": "python3",
      "display_name": "Python 3"
    },
    "language_info": {
      "name": "python"
    }
  },
  "cells": [
    {
      "cell_type": "markdown",
      "metadata": {
        "id": "view-in-github",
        "colab_type": "text"
      },
      "source": [
        "<a href=\"https://colab.research.google.com/github/zaelcovsky/workshop_deep_python_autumn_2023_not_my_group/blob/main/vk_deep_python_workshop_neg_extender.ipynb\" target=\"_parent\"><img src=\"https://colab.research.google.com/assets/colab-badge.svg\" alt=\"Open In Colab\"/></a>"
      ]
    },
    {
      "cell_type": "markdown",
      "source": [
        "# «Больше, чем просто минус»"
      ],
      "metadata": {
        "id": "x96ExZHilfww"
      }
    },
    {
      "cell_type": "markdown",
      "source": [
        "Необходимо написать класс **NegExt**, расширяющий унарный минус по следующей схеме:\n",
        "Производный класс должен конструироваться с помощью class потомок(NegExt, родитель):\n",
        "\n",
        "1.   Если для родителя можно вызвать унарный минус, -потомок() возвращает то же, что и -родитель()\n",
        "\n",
        "\n",
        ">```python\n",
        "> class nnum(NegExt, int):\n",
        ">     pass\n",
        ">\n",
        "> print(-nnum(123))\n",
        "> >>> -123\n",
        "> ```\n",
        "\n",
        "\n",
        "2.   Если для родителя унарный минус не работает, но работает операция секционирования, -потомок() возвращает собственную секцию [1:-1]\n",
        "\n",
        "\n",
        "> ```python\n",
        "> class nstr(NegExt, str):\n",
        ">     pass\n",
        ">\n",
        "> print(-nstr(\"Python\"), --nstr(\"NegExt\"))\n",
        "> >>> ytho, gE\n",
        "> ```\n",
        "\n",
        "3.    В противном случае возвращается сам потомок\n",
        "\n",
        "\n",
        "> ```python\n",
        "> class ndict(NegExt, dict):\n",
        ">     pass\n",
        ">\n",
        "> print(-ndict({1: 2, 3: 4}))\n",
        "> >>> {1: 2, 3: 4}\n",
        "> ```\n",
        "\n",
        "Также во всех трех случаях тип возвращаемого значения должен быть \"потомок\"\n"
      ],
      "metadata": {
        "id": "PwRUiwHclngG"
      }
    },
    {
      "cell_type": "code",
      "source": [
        "!pip install ipytest"
      ],
      "metadata": {
        "id": "3MmLVpN44J-4"
      },
      "execution_count": null,
      "outputs": []
    },
    {
      "cell_type": "code",
      "source": [
        "import ipytest\n",
        "ipytest.autoconfig()"
      ],
      "metadata": {
        "id": "qwwtEk7V40Ln"
      },
      "execution_count": null,
      "outputs": []
    },
    {
      "cell_type": "code",
      "source": [
        "from collections.abc import Sequence\n",
        "\n",
        "class NegExt:\n",
        "    def __neg__(self):\n",
        "        cls = self.__class__\n",
        "\n",
        "        if hasattr(super(), \"__neg__\"):\n",
        "            return cls(super().__neg__())\n",
        "\n",
        "        if isinstance(self, Sequence):\n",
        "            return cls(super().__getitem__(slice(1, -1)))\n",
        "\n",
        "        return self"
      ],
      "metadata": {
        "id": "eVn0pl2Ili3T"
      },
      "execution_count": null,
      "outputs": []
    },
    {
      "cell_type": "code",
      "source": [
        "def test_num():\n",
        "    class nnum(NegExt, int):\n",
        "        pass\n",
        "\n",
        "    neg = -nnum(123)\n",
        "    assert neg == -123\n",
        "    assert isinstance(neg, nnum)\n",
        "\n",
        "\n",
        "def test_dict():\n",
        "    class ndict(NegExt, dict):\n",
        "        pass\n",
        "\n",
        "    neg = -ndict({1: 2})\n",
        "    assert neg == {1: 2}\n",
        "    assert isinstance(neg, ndict)\n",
        "\n",
        "\n",
        "def test_str():\n",
        "    class nstr(NegExt, str):\n",
        "        pass\n",
        "\n",
        "    neg = -nstr(\"Python\")\n",
        "    assert neg == \"ytho\"\n",
        "    assert isinstance(neg, nstr)\n",
        "\n",
        "    double_neg = --nstr(\"NegExt\")\n",
        "    assert double_neg == \"gE\"\n",
        "    assert isinstance(double_neg, nstr)"
      ],
      "metadata": {
        "id": "ZnYJmY034M6I"
      },
      "execution_count": null,
      "outputs": []
    },
    {
      "cell_type": "code",
      "source": [
        "ipytest.run()"
      ],
      "metadata": {
        "id": "D2LqvudC4u0o",
        "colab": {
          "base_uri": "https://localhost:8080/"
        },
        "outputId": "0e01aeca-66d3-4756-b9f6-2a3d334aa944"
      },
      "execution_count": null,
      "outputs": [
        {
          "output_type": "stream",
          "name": "stdout",
          "text": [
            "\u001b[32m.\u001b[0m\u001b[32m.\u001b[0m\u001b[32m.\u001b[0m\u001b[32m                                                                                          [100%]\u001b[0m\n",
            "\u001b[32m\u001b[32m\u001b[1m3 passed\u001b[0m\u001b[32m in 0.02s\u001b[0m\u001b[0m\n"
          ]
        },
        {
          "output_type": "execute_result",
          "data": {
            "text/plain": [
              "<ExitCode.OK: 0>"
            ]
          },
          "metadata": {},
          "execution_count": 27
        }
      ]
    },
    {
      "cell_type": "code",
      "source": [],
      "metadata": {
        "id": "4p9VJYsL49cR"
      },
      "execution_count": null,
      "outputs": []
    }
  ]
}