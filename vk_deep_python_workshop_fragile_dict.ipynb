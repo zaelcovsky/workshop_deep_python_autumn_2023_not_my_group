{
  "nbformat": 4,
  "nbformat_minor": 0,
  "metadata": {
    "colab": {
      "provenance": [],
      "include_colab_link": true
    },
    "kernelspec": {
      "name": "python3",
      "display_name": "Python 3"
    },
    "language_info": {
      "name": "python"
    }
  },
  "cells": [
    {
      "cell_type": "markdown",
      "metadata": {
        "id": "view-in-github",
        "colab_type": "text"
      },
      "source": [
        "<a href=\"https://colab.research.google.com/github/zaelcovsky/workshop_deep_python_autumn_2023_not_my_group/blob/main/vk_deep_python_workshop_fragile_dict.ipynb\" target=\"_parent\"><img src=\"https://colab.research.google.com/assets/colab-badge.svg\" alt=\"Open In Colab\"/></a>"
      ]
    },
    {
      "cell_type": "markdown",
      "source": [
        "# «Хрупкий словарь»"
      ],
      "metadata": {
        "id": "-ScQpBsuxn1q"
      }
    },
    {
      "cell_type": "markdown",
      "source": [
        "В банках всего мира используются SQL-базы данных. Основным преимуществом является высокая скорость доступа к данным, а также выполнение принципов ACID (атомарность, согласованность, изолированность, долговечность). Транзакции обязаны удовлетворять этим принципам, иначе любая ошибка может привести к огромным потерям со стороны банка.\n",
        "\n",
        "В этом задании предлагается реализовать интерфейс простейшего \"безопасного\" хранилища. Наше хранилище будет называться «хрупким словарем». Класс **FragileDict** должен реализовывать следующий интерфейс:\n",
        "\n",
        "\n",
        "1.   Конструктор опционально может принимать на вход словарь, содержимое которого будет храниться в «хрупком словаре»; в конструкторе заполняются два атрибута: data — хранилище с данными, lock — булев флаг, показывающий, можно ли редактировать хранилище (True в положении вне контекста)\n",
        "\n",
        "> ```python\n",
        "> class FragileDict:\n",
        ">     def __init__(self, d: Optional[dict]):\n",
        ">         self.data = ...\n",
        ">         self.lock = True\n",
        "> ```\n",
        "\n",
        "\n",
        "2.   Поддержка интерфейса словаря\n",
        "\n",
        "> ```python\n",
        "> d = FragileDict({\"key\": 5})\n",
        "> assert d[\"key\"] == 5\n",
        "> assert \"key\" in d\n",
        "> ```\n",
        "\n",
        "3.   Класс должен поддерживать механизм менеджера контекста. Экземпляр класса может создаваться при входе в контекст\n",
        "\n",
        "> ```python\n",
        "> # example 1\n",
        "> d = FragileDict({\"key\": 5})\n",
        "> with d:\n",
        ">     ...\n",
        ">\n",
        "> # example 2\n",
        "> with FragileDict({\"key\": 10}) as d:\n",
        ">     ...\n",
        "> ```\n",
        "\n",
        "4.   Запись данных в **FragileDict** разрешена **только** внутри контекста, иначе бросается исключение RuntimeError(\"Protected state\"). При входе в контекст можно создавать любые атрибуты класса, но на выхоже их быть уже не должно\n",
        "\n",
        "> ```python\n",
        "> d = FragileDict({\"key\": 10})\n",
        ">\n",
        "> # должно возбуждаться исключение RuntimeError\n",
        "> d[\"key\"] = 6\n",
        ">\n",
        "> with d:\n",
        ">     d[\"a\"] = 20\n",
        "> assert d[\"a\"] == 20\n",
        "> ```\n",
        "\n",
        "5. Если внутри контекста возникло исключение, то данные **не записываются**. На выходе из контекста «словарь» должен иметь точно такое же состояние, как и на входе. Само исключение подавляется, и пишется сообщение об ошибке \"Exception has been suppressed\"\n",
        "\n",
        "\n",
        "**Note:** Для обеспечения большей безопасности хранилища может пригодиться модуль *copy*. Вспомните разницу между поверхностным копированием (shallow copy) и глубоким копированием (deep copy)\n",
        "\n",
        "\n",
        "\n",
        "\n"
      ],
      "metadata": {
        "id": "48kuN7uox_GE"
      }
    },
    {
      "cell_type": "markdown",
      "source": [
        "Ниже представлен минимальный интерфейс класса и тесты для проверки решения"
      ],
      "metadata": {
        "id": "UVqRpIHQ-WJT"
      }
    },
    {
      "cell_type": "code",
      "source": [
        "!pip install ipytest"
      ],
      "metadata": {
        "id": "WtOFRHpa8IO8"
      },
      "execution_count": null,
      "outputs": []
    },
    {
      "cell_type": "code",
      "source": [
        "from typing import Any, Optional\n",
        "from copy import deepcopy\n",
        "\n",
        "import pytest\n",
        "import ipytest\n",
        "ipytest.autoconfig()"
      ],
      "metadata": {
        "id": "Yqe8L8el8FGb"
      },
      "execution_count": null,
      "outputs": []
    },
    {
      "cell_type": "code",
      "source": [
        "class FragileDict:\n",
        "    def __init__(self, d: Optional[dict]) -> None:\n",
        "        self.data = deepcopy(d) if d else {}\n",
        "        self.lock = True\n",
        "\n",
        "    def __setitem__(self, key, value) -> None:\n",
        "        if self.lock:\n",
        "           raise RuntimeError(\"Protected\")\n",
        "        self.tmp_data[key] = value\n",
        "\n",
        "    def __getitem__(self, key) -> Any:\n",
        "        if self.lock:\n",
        "            return deepcopy(self.data[key])\n",
        "\n",
        "        if key not in self.tmp_data and key in self.data:\n",
        "            self.tmp_data[key] = deepcopy(self.data[key])\n",
        "\n",
        "        return self.tmp_data[key]\n",
        "\n",
        "    def __contains__(self, key) -> bool:\n",
        "        if self.lock:\n",
        "            return key in self.data\n",
        "        return key in self.tmp_data or key in self.data\n",
        "\n",
        "    def __enter__(self) -> 'FragileDict':\n",
        "        self.lock = False\n",
        "        self.tmp_data = {}\n",
        "        return self\n",
        "\n",
        "    def __exit__(self, exc_type, exc_value, traceback) -> Optional[bool]:\n",
        "        self.lock = True\n",
        "        if exc_type:\n",
        "            del self.tmp_data\n",
        "            return True\n",
        "\n",
        "        for key, value in self.tmp_data.items():\n",
        "            self.data[key] = deepcopy(value)\n",
        "\n",
        "        del self.tmp_data"
      ],
      "metadata": {
        "id": "ZhXcqy144-W0"
      },
      "execution_count": null,
      "outputs": []
    },
    {
      "cell_type": "code",
      "source": [
        "def test_context_set():\n",
        "    d = FragileDict({\"key\": 5})\n",
        "\n",
        "    with d:\n",
        "        d[\"key\"] = 6\n",
        "        d[\"ord\"] = 7\n",
        "\n",
        "    assert d[\"key\"] == 6\n",
        "    assert d[\"ord\"] == 7\n",
        "\n",
        "\n",
        "\n",
        "def test_context_set_get():\n",
        "    d = FragileDict({\"key\": 5})\n",
        "\n",
        "    with d:\n",
        "        d[\"key\"] = 6\n",
        "        assert d[\"key\"] == 6\n",
        "        d[\"ord\"] = 7\n",
        "        assert \"ord\" in d\n",
        "        assert d[\"ord\"] == 7\n",
        "\n",
        "    assert d[\"key\"] == 6\n",
        "    assert \"ord\" in d\n",
        "\n",
        "\n",
        "\n",
        "def test_set_not_in_context():\n",
        "    d = FragileDict({\"key\": 5})\n",
        "\n",
        "    with pytest.raises(RuntimeError):\n",
        "        d[\"key\"] = 6\n",
        "\n",
        "    with pytest.raises(RuntimeError):\n",
        "        d[\"ord\"] = 7\n",
        "\n",
        "    # d[\"key\"] value should be the same\n",
        "    assert d[\"key\"] == 5\n",
        "\n",
        "    # \"ord\" should not be in d\n",
        "    assert \"ord\" not in d\n",
        "\n",
        "\n",
        "\n",
        "def test_raised_exception_in_context():\n",
        "    d = FragileDict({\"key\": 5})\n",
        "\n",
        "    with d:\n",
        "        d[\"key\"] = 6\n",
        "        assert d[\"key\"] == 6\n",
        "        d[\"ord\"] = 7\n",
        "        assert \"ord\" in d\n",
        "        assert d[\"ord\"] == 7\n",
        "        raise Exception()\n",
        "\n",
        "    # data should be as before context entering\n",
        "    assert d[\"key\"] == 5\n",
        "    assert \"ord\" not in d\n",
        "\n",
        "\n",
        "\n",
        "def test_deepcopy_lst():\n",
        "    d = FragileDict({\"key\": []})\n",
        "\n",
        "    with d:\n",
        "        a = d[\"key\"]\n",
        "        d[\"key\"].append(10)\n",
        "        a.append(10)\n",
        "\n",
        "    a.append(10)\n",
        "\n",
        "    assert a == [10, 10, 10]\n",
        "    assert d[\"key\"] == [10, 10]\n",
        "\n",
        "\n",
        "\n",
        "def test_deepcopy_lst2():\n",
        "    d = FragileDict({\"key\": [10, 10]})\n",
        "\n",
        "    a = d[\"key\"]\n",
        "    a.append(10)\n",
        "\n",
        "    assert a == [10, 10, 10]\n",
        "    assert d[\"key\"] == [10, 10]\n",
        "\n",
        "\n",
        "\n",
        "def test_deepcopy_lst3():\n",
        "    a = [10, 10]\n",
        "    with FragileDict({\"key\": [20, 20]}) as d:\n",
        "        d[\"a\"] = a\n",
        "        assert d[\"a\"] == [10, 10]\n",
        "\n",
        "    a.append(10)\n",
        "    assert d[\"a\"] == [10, 10]\n",
        "\n",
        "\n",
        "\n",
        "def test_deepcopy_lst4():\n",
        "    a = [10, 10]\n",
        "    with FragileDict({\"key\": a}) as d:\n",
        "        d[\"a\"] = a\n",
        "        assert d[\"key\"] == a\n",
        "        assert d[\"a\"] == a\n",
        "        a.append(10)\n",
        "\n",
        "        assert d[\"key\"] == [10, 10]\n",
        "        assert d[\"a\"] == a\n",
        "\n",
        "\n",
        "\n",
        "def test_nested_good():\n",
        "    with FragileDict({\"a\": {\"b\": [20, 20]}}) as a:\n",
        "        # ensure correct creation\n",
        "        assert a[\"a\"] == {\"b\": [20, 20]}\n",
        "        assert a[\"a\"][\"b\"] == [20, 20]\n",
        "\n",
        "        # change nested value\n",
        "        a[\"a\"][\"b\"].append(20)\n",
        "\n",
        "        # ensure it changed\n",
        "        assert a[\"a\"][\"b\"] == [20, 20, 20]\n",
        "\n",
        "    # ensure it changed after context\n",
        "    assert a[\"a\"][\"b\"] == [20, 20, 20]\n",
        "\n",
        "\n",
        "\n",
        "def test_nested_bad():\n",
        "    with FragileDict({\"a\": {\"b\": [10, 10]}}) as d:\n",
        "        # ensure correct creation\n",
        "        assert d[\"a\"] == {\"b\": [10, 10]}\n",
        "        assert d[\"a\"][\"b\"] == [10, 10]\n",
        "\n",
        "        # change nested value\n",
        "        d[\"a\"][\"b\"].append(10)\n",
        "\n",
        "        # ensure it changed\n",
        "        assert d[\"a\"][\"b\"] == [10, 10, 10]\n",
        "\n",
        "        raise Exception\n",
        "\n",
        "    # value should be as before context\n",
        "    assert d[\"a\"][\"b\"] == [10, 10]\n",
        "\n",
        "\n",
        "\n",
        "def test_nested_hard():\n",
        "    a = [10, 10]\n",
        "    d = FragileDict({\"a\": {\"b\": a}})\n",
        "    assert \"a\" in d\n",
        "    assert \"b\" not in d\n",
        "\n",
        "    assert d[\"a\"][\"b\"] == [10, 10]\n",
        "    a.append(10)\n",
        "    assert d[\"a\"][\"b\"] == [10, 10]"
      ],
      "metadata": {
        "id": "ehrHGy9Q4y8H"
      },
      "execution_count": null,
      "outputs": []
    },
    {
      "cell_type": "code",
      "source": [
        "ipytest.run()"
      ],
      "metadata": {
        "colab": {
          "base_uri": "https://localhost:8080/"
        },
        "id": "amEBMsuu7bw8",
        "outputId": "af849e20-6710-4069-9967-fc99be2eba64"
      },
      "execution_count": null,
      "outputs": [
        {
          "output_type": "stream",
          "name": "stdout",
          "text": [
            "\u001b[32m.\u001b[0m\u001b[32m.\u001b[0m\u001b[32m.\u001b[0m\u001b[32m.\u001b[0m\u001b[32m.\u001b[0m\u001b[32m.\u001b[0m\u001b[32m.\u001b[0m\u001b[32m.\u001b[0m\u001b[32m.\u001b[0m\u001b[32m.\u001b[0m\u001b[32m.\u001b[0m\u001b[32m                                                                                  [100%]\u001b[0m\n",
            "\u001b[32m\u001b[32m\u001b[1m11 passed\u001b[0m\u001b[32m in 0.05s\u001b[0m\u001b[0m\n"
          ]
        },
        {
          "output_type": "execute_result",
          "data": {
            "text/plain": [
              "<ExitCode.OK: 0>"
            ]
          },
          "metadata": {},
          "execution_count": 29
        }
      ]
    },
    {
      "cell_type": "code",
      "source": [],
      "metadata": {
        "id": "Oz16jJ3l5iIV"
      },
      "execution_count": null,
      "outputs": []
    }
  ]
}